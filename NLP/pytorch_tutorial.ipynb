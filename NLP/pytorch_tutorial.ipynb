{
 "cells": [
  {
   "cell_type": "code",
   "execution_count": 1,
   "metadata": {},
   "outputs": [],
   "source": [
    "%matplotlib inline"
   ]
  },
  {
   "cell_type": "markdown",
   "metadata": {},
   "source": [
    "\n",
    "Introduction to PyTorch\n",
    "***********************\n",
    "\n",
    "Introduction to Torch's tensor library\n",
    "======================================\n",
    "\n",
    "All of deep learning is computations on tensors, which are\n",
    "generalizations of a matrix that can be indexed in more than 2\n",
    "dimensions. We will see exactly what this means in-depth later. First,\n",
    "lets look what we can do with tensors.\n",
    "\n"
   ]
  },
  {
   "cell_type": "code",
   "execution_count": 5,
   "metadata": {},
   "outputs": [
    {
     "data": {
      "text/plain": [
       "<torch._C.Generator at 0x20146337d50>"
      ]
     },
     "execution_count": 5,
     "metadata": {},
     "output_type": "execute_result"
    }
   ],
   "source": [
    "# Author: Robert Guthrie\n",
    "\n",
    "import torch\n",
    "import torch.autograd as autograd\n",
    "import torch.nn as nn\n",
    "import torch.nn.functional as F\n",
    "import torch.optim as optim\n",
    "\n",
    "import numpy as np # added by me\n",
    "\n",
    "torch.manual_seed(1)"
   ]
  },
  {
   "cell_type": "markdown",
   "metadata": {},
   "source": [
    "Creating Tensors\n",
    "~~~~~~~~~~~~~~~~\n",
    "\n",
    "Tensors can be created from Python lists with the torch.Tensor()\n",
    "function.\n",
    "\n",
    "\n"
   ]
  },
  {
   "cell_type": "code",
   "execution_count": 9,
   "metadata": {},
   "outputs": [
    {
     "name": "stdout",
     "output_type": "stream",
     "text": [
      "tensor([1., 2., 3.])\n",
      "tensor([[1., 2., 3.],\n",
      "        [4., 5., 6.]])\n",
      "tensor([[[1., 2.],\n",
      "         [3., 4.]],\n",
      "\n",
      "        [[5., 6.],\n",
      "         [7., 8.]]])\n",
      "tensor([1, 2, 3, 4, 5], dtype=torch.int32)\n",
      "tensor([1, 2, 3, 4, 5], dtype=torch.int32)\n"
     ]
    }
   ],
   "source": [
    "# torch.tensor(data) creates a torch.Tensor object with the given data.\n",
    "V_data = [1., 2., 3.]\n",
    "V = torch.tensor(V_data)\n",
    "print(V)\n",
    "\n",
    "# Creates a matrix\n",
    "M_data = [[1., 2., 3.], [4., 5., 6]]\n",
    "M = torch.tensor(M_data)\n",
    "print(M)\n",
    "\n",
    "# Create a 3D tensor of size 2x2x2.\n",
    "T_data = [[[1., 2.], [3., 4.]],\n",
    "          [[5., 6.], [7., 8.]]]\n",
    "T = torch.tensor(T_data)\n",
    "print(T)\n",
    "\n",
    "N_data = np.array([1,2,3,4,5])\n",
    "N = torch.tensor(N_data)\n",
    "NN = torch.from_numpy(N_data)\n",
    "print(N)\n",
    "print(NN)"
   ]
  },
  {
   "cell_type": "markdown",
   "metadata": {},
   "source": [
    "What is a 3D tensor anyway? Think about it like this. If you have a\n",
    "vector, indexing into the vector gives you a scalar. If you have a\n",
    "matrix, indexing into the matrix gives you a vector. If you have a 3D\n",
    "tensor, then indexing into the tensor gives you a matrix!\n",
    "\n",
    "A note on terminology:\n",
    "when I say \"tensor\" in this tutorial, it refers\n",
    "to any torch.Tensor object. Matrices and vectors are special cases of\n",
    "torch.Tensors, where their dimension is 1 and 2 respectively. When I am\n",
    "talking about 3D tensors, I will explicitly use the term \"3D tensor\".\n",
    "\n",
    "\n"
   ]
  },
  {
   "cell_type": "code",
   "execution_count": 10,
   "metadata": {},
   "outputs": [
    {
     "name": "stdout",
     "output_type": "stream",
     "text": [
      "tensor(1.)\n",
      "1.0\n",
      "tensor([1., 2., 3.])\n",
      "tensor([[1., 2.],\n",
      "        [3., 4.]])\n"
     ]
    }
   ],
   "source": [
    "# Index into V and get a scalar (0 dimensional tensor)\n",
    "print(V[0])\n",
    "# Get a Python number from it\n",
    "print(V[0].item())\n",
    "\n",
    "# Index into M and get a vector\n",
    "print(M[0])\n",
    "\n",
    "# Index into T and get a matrix\n",
    "print(T[0])"
   ]
  },
  {
   "cell_type": "markdown",
   "metadata": {},
   "source": [
    "You can also create tensors of other datatypes. The default, as you can\n",
    "see, is Float. To create a tensor of integer types, try\n",
    "torch.LongTensor(). Check the documentation for more data types, but\n",
    "Float and Long will be the most common.\n",
    "\n",
    "\n"
   ]
  },
  {
   "cell_type": "markdown",
   "metadata": {},
   "source": [
    "You can create a tensor with random data and the supplied dimensionality\n",
    "with torch.randn()\n",
    "\n",
    "\n"
   ]
  },
  {
   "cell_type": "code",
   "execution_count": 12,
   "metadata": {},
   "outputs": [
    {
     "name": "stdout",
     "output_type": "stream",
     "text": [
      "tensor([[[ 0.4100,  0.4085,  0.2579,  1.0950, -0.5065],\n",
      "         [ 0.0998, -0.6540,  0.7317, -1.4567,  1.6089],\n",
      "         [ 0.0938, -1.2597,  0.2546, -0.5020, -1.0412],\n",
      "         [ 0.7323,  1.3075, -1.1628,  0.1196, -0.1631]],\n",
      "\n",
      "        [[ 0.6614,  1.1899,  0.8165, -0.9135, -0.3538],\n",
      "         [ 0.7639, -0.5890, -0.7636,  1.3352,  0.6043],\n",
      "         [-0.1034, -0.1512,  1.2466,  0.5057,  0.9505],\n",
      "         [ 1.2966,  0.8738, -0.5603,  1.2858,  0.8168]],\n",
      "\n",
      "        [[-1.4648, -1.2629,  1.1220,  1.5663, -1.0371],\n",
      "         [-1.0669, -0.2085, -0.2155,  0.2705,  0.5597],\n",
      "         [-0.3184,  1.5117, -1.5208,  0.9196, -0.5484],\n",
      "         [-0.3472, -0.7474, -0.9234,  0.5734, -0.1093]]])\n",
      "tensor([[[ 0.0041,  0.0041,  0.0026,  0.0110, -0.0051],\n",
      "         [ 0.0010, -0.0065,  0.0073, -0.0146,  0.0161],\n",
      "         [ 0.0009, -0.0126,  0.0025, -0.0050, -0.0104],\n",
      "         [ 0.0073,  0.0131, -0.0116,  0.0012, -0.0016]],\n",
      "\n",
      "        [[ 0.0066,  0.0119,  0.0082, -0.0091, -0.0035],\n",
      "         [ 0.0076, -0.0059, -0.0076,  0.0134,  0.0060],\n",
      "         [-0.0010, -0.0015,  0.0125,  0.0051,  0.0095],\n",
      "         [ 0.0130,  0.0087, -0.0056,  0.0129,  0.0082]],\n",
      "\n",
      "        [[-0.0146, -0.0126,  0.0112,  0.0157, -0.0104],\n",
      "         [-0.0107, -0.0021, -0.0022,  0.0027,  0.0056],\n",
      "         [-0.0032,  0.0151, -0.0152,  0.0092, -0.0055],\n",
      "         [-0.0035, -0.0075, -0.0092,  0.0057, -0.0011]]])\n"
     ]
    }
   ],
   "source": [
    "x = torch.randn((3, 4, 5))\n",
    "print(x)\n",
    "print(x * 0.01)"
   ]
  },
  {
   "cell_type": "markdown",
   "metadata": {},
   "source": [
    "Operations with Tensors\n",
    "~~~~~~~~~~~~~~~~~~~~~~~\n",
    "\n",
    "You can operate on tensors in the ways you would expect.\n",
    "\n"
   ]
  },
  {
   "cell_type": "code",
   "execution_count": null,
   "metadata": {},
   "outputs": [],
   "source": [
    "x = torch.tensor([1., 2., 3.])\n",
    "y = torch.tensor([4., 5., 6.])\n",
    "z = x + y\n",
    "print(z)"
   ]
  },
  {
   "cell_type": "markdown",
   "metadata": {},
   "source": [
    "See `the documentation <http://pytorch.org/docs/torch.html>`__ for a\n",
    "complete list of the massive number of operations available to you. They\n",
    "expand beyond just mathematical operations.\n",
    "\n",
    "One helpful operation that we will make use of later is concatenation.\n",
    "\n",
    "\n"
   ]
  },
  {
   "cell_type": "code",
   "execution_count": null,
   "metadata": {},
   "outputs": [],
   "source": [
    "# By default, it concatenates along the first axis (concatenates rows)\n",
    "x_1 = torch.randn(2, 5)\n",
    "y_1 = torch.randn(3, 5)\n",
    "z_1 = torch.cat([x_1, y_1])\n",
    "print(z_1)\n",
    "\n",
    "# Concatenate columns:\n",
    "x_2 = torch.randn(2, 3)\n",
    "y_2 = torch.randn(2, 5)\n",
    "# second arg specifies which axis to concat along\n",
    "z_2 = torch.cat([x_2, y_2], 1)\n",
    "print(z_2)\n",
    "\n",
    "# If your tensors are not compatible, torch will complain.  Uncomment to see the error\n",
    "# torch.cat([x_1, x_2])"
   ]
  },
  {
   "cell_type": "markdown",
   "metadata": {},
   "source": [
    "Reshaping Tensors\n",
    "~~~~~~~~~~~~~~~~~\n",
    "\n",
    "Use the .view() method to reshape a tensor. This method receives heavy\n",
    "use, because many neural network components expect their inputs to have\n",
    "a certain shape. Often you will need to reshape before passing your data\n",
    "to the component.\n",
    "\n",
    "\n"
   ]
  },
  {
   "cell_type": "code",
   "execution_count": null,
   "metadata": {},
   "outputs": [],
   "source": [
    "x = torch.randn(2, 3, 4)\n",
    "print(x)\n",
    "print(x.view(2, 12))  # Reshape to 2 rows, 12 columns\n",
    "# Same as above.  If one of the dimensions is -1, its size can be inferred\n",
    "print(x.view(2, -1))"
   ]
  },
  {
   "cell_type": "markdown",
   "metadata": {},
   "source": [
    "Computation Graphs and Automatic Differentiation\n",
    "================================================\n",
    "\n",
    "The concept of a computation graph is essential to efficient deep\n",
    "learning programming, because it allows you to not have to write the\n",
    "back propagation gradients yourself. A computation graph is simply a\n",
    "specification of how your data is combined to give you the output. Since\n",
    "the graph totally specifies what parameters were involved with which\n",
    "operations, it contains enough information to compute derivatives. This\n",
    "probably sounds vague, so let's see what is going on using the\n",
    "fundamental flag ``requires_grad``.\n",
    "\n",
    "First, think from a programmers perspective. What is stored in the\n",
    "torch.Tensor objects we were creating above? Obviously the data and the\n",
    "shape, and maybe a few other things. But when we added two tensors\n",
    "together, we got an output tensor. All this output tensor knows is its\n",
    "data and shape. It has no idea that it was the sum of two other tensors\n",
    "(it could have been read in from a file, it could be the result of some\n",
    "other operation, etc.)\n",
    "\n",
    "If ``requires_grad=True``, the Tensor object keeps track of how it was\n",
    "created. Lets see it in action.\n",
    "\n",
    "\n"
   ]
  },
  {
   "cell_type": "code",
   "execution_count": null,
   "metadata": {},
   "outputs": [],
   "source": [
    "# Tensor factory methods have a ``requires_grad`` flag\n",
    "x = torch.tensor([1., 2., 3], requires_grad=True)\n",
    "\n",
    "# With requires_grad=True, you can still do all the operations you previously\n",
    "# could\n",
    "y = torch.tensor([4., 5., 6], requires_grad=True)\n",
    "z = x + y\n",
    "print(z)\n",
    "\n",
    "# BUT z knows something extra.\n",
    "print(z.grad_fn)"
   ]
  },
  {
   "cell_type": "markdown",
   "metadata": {},
   "source": [
    "So Tensors know what created them. z knows that it wasn't read in from\n",
    "a file, it wasn't the result of a multiplication or exponential or\n",
    "whatever. And if you keep following z.grad_fn, you will find yourself at\n",
    "x and y.\n",
    "\n",
    "But how does that help us compute a gradient?\n",
    "\n",
    "\n"
   ]
  },
  {
   "cell_type": "code",
   "execution_count": null,
   "metadata": {},
   "outputs": [],
   "source": [
    "# Lets sum up all the entries in z\n",
    "s = z.sum()\n",
    "print(s)\n",
    "print(s.grad_fn)"
   ]
  },
  {
   "cell_type": "markdown",
   "metadata": {},
   "source": [
    "So now, what is the derivative of this sum with respect to the first\n",
    "component of x? In math, we want\n",
    "\n",
    "\\begin{align}\\frac{\\partial s}{\\partial x_0}\\end{align}\n",
    "\n",
    "\n",
    "\n",
    "Well, s knows that it was created as a sum of the tensor z. z knows\n",
    "that it was the sum x + y. So\n",
    "\n",
    "\\begin{align}s = \\overbrace{x_0 + y_0}^\\text{$z_0$} + \\overbrace{x_1 + y_1}^\\text{$z_1$} + \\overbrace{x_2 + y_2}^\\text{$z_2$}\\end{align}\n",
    "\n",
    "And so s contains enough information to determine that the derivative\n",
    "we want is 1!\n",
    "\n",
    "Of course this glosses over the challenge of how to actually compute\n",
    "that derivative. The point here is that s is carrying along enough\n",
    "information that it is possible to compute it. In reality, the\n",
    "developers of Pytorch program the sum() and + operations to know how to\n",
    "compute their gradients, and run the back propagation algorithm. An\n",
    "in-depth discussion of that algorithm is beyond the scope of this\n",
    "tutorial.\n",
    "\n",
    "\n"
   ]
  },
  {
   "cell_type": "markdown",
   "metadata": {},
   "source": [
    "Lets have Pytorch compute the gradient, and see that we were right:\n",
    "(note if you run this block multiple times, the gradient will increment.\n",
    "That is because Pytorch *accumulates* the gradient into the .grad\n",
    "property, since for many models this is very convenient.)\n",
    "\n",
    "\n"
   ]
  },
  {
   "cell_type": "code",
   "execution_count": null,
   "metadata": {},
   "outputs": [],
   "source": [
    "# calling .backward() on any variable will run backprop, starting from it.\n",
    "s.backward()\n",
    "print(x.grad)"
   ]
  },
  {
   "cell_type": "markdown",
   "metadata": {},
   "source": [
    "Understanding what is going on in the block below is crucial for being a\n",
    "successful programmer in deep learning.\n",
    "\n",
    "\n"
   ]
  },
  {
   "cell_type": "code",
   "execution_count": null,
   "metadata": {},
   "outputs": [],
   "source": [
    "x = torch.randn(2, 2)\n",
    "y = torch.randn(2, 2)\n",
    "# By default, user created Tensors have ``requires_grad=False``\n",
    "print(x.requires_grad, y.requires_grad)\n",
    "z = x + y\n",
    "# So you can't backprop through z\n",
    "print(z.grad_fn)\n",
    "\n",
    "# ``.requires_grad_( ... )`` changes an existing Tensor's ``requires_grad``\n",
    "# flag in-place. The input flag defaults to ``True`` if not given.\n",
    "x = x.requires_grad_()\n",
    "y = y.requires_grad_()\n",
    "# z contains enough information to compute gradients, as we saw above\n",
    "z = x + y\n",
    "print(z.grad_fn)\n",
    "# If any input to an operation has ``requires_grad=True``, so will the output\n",
    "print(z.requires_grad)\n",
    "\n",
    "# Now z has the computation history that relates itself to x and y\n",
    "# Can we just take its values, and **detach** it from its history?\n",
    "new_z = z.detach()\n",
    "\n",
    "# ... does new_z have information to backprop to x and y?\n",
    "# NO!\n",
    "print(new_z.grad_fn)\n",
    "# And how could it? ``z.detach()`` returns a tensor that shares the same storage\n",
    "# as ``z``, but with the computation history forgotten. It doesn't know anything\n",
    "# about how it was computed.\n",
    "# In essence, we have broken the Tensor away from its past history"
   ]
  },
  {
   "cell_type": "markdown",
   "metadata": {},
   "source": [
    "You can also stop autograd from tracking history on Tensors\n",
    "with ``.requires_grad``=True by wrapping the code block in\n",
    "``with torch.no_grad():``\n",
    "\n"
   ]
  },
  {
   "cell_type": "code",
   "execution_count": null,
   "metadata": {},
   "outputs": [],
   "source": [
    "print(x.requires_grad)\n",
    "print((x ** 2).requires_grad)\n",
    "\n",
    "with torch.no_grad():\n",
    "\tprint((x ** 2).requires_grad)"
   ]
  }
 ],
 "metadata": {
  "kernelspec": {
   "display_name": "Python 3",
   "language": "python",
   "name": "python3"
  },
  "language_info": {
   "codemirror_mode": {
    "name": "ipython",
    "version": 3
   },
   "file_extension": ".py",
   "mimetype": "text/x-python",
   "name": "python",
   "nbconvert_exporter": "python",
   "pygments_lexer": "ipython3",
   "version": "3.7.0"
  }
 },
 "nbformat": 4,
 "nbformat_minor": 1
}
